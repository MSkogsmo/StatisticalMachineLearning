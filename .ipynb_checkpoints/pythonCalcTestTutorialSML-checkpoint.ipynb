{
 "cells": [
  {
   "cell_type": "code",
   "execution_count": 73,
   "metadata": {
    "collapsed": true
   },
   "outputs": [],
   "source": [
    "import numpy as np\n",
    "import pandas as pd\n",
    "import csv \n",
    "import matplotlib.pyplot as plt\n",
    "import sklearn.linear_model as linear_model"
   ]
  },
  {
   "cell_type": "code",
   "execution_count": 74,
   "metadata": {
    "scrolled": true
   },
   "outputs": [],
   "source": [
    "array1 = np.array([1,2,4])\n",
    "array2 = np.array([1,9,6])\n",
    "matrix1 = np.array([[2,1,5],[3,6,1],[4,2,4]])\n",
    "longArray = np.array([1,4,5,3,8,9,4,0,3])\n",
    "matrix2 = np.reshape(longArray,[3,3])\n",
    "matrix3 = np.ones([3,3])"
   ]
  },
  {
   "cell_type": "code",
   "execution_count": 75,
   "metadata": {},
   "outputs": [
    {
     "name": "stdout",
     "output_type": "stream",
     "text": [
      "Access element\n",
      "1\n",
      "Access first row\n",
      "[2 1 5]\n",
      "Access third colomn\n",
      "[1. 1. 1.]\n",
      "Access all columns but last\n",
      "[[1. 1.]\n",
      " [1. 1.]\n",
      " [1. 1.]]\n",
      "Transpose\n",
      "[[1 3 4]\n",
      " [4 8 0]\n",
      " [5 9 3]]\n",
      "Inverse\n",
      "[[-0.40740741 -0.11111111  0.53703704]\n",
      " [ 0.14814815  0.22222222 -0.24074074]\n",
      " [ 0.33333333  0.         -0.16666667]]\n",
      "Element Multiplication\n",
      "[[2. 1. 5.]\n",
      " [3. 6. 1.]\n",
      " [4. 2. 4.]]\n",
      "Matrix Multiplication\n",
      "[[ 8.  8.  8.]\n",
      " [10. 10. 10.]\n",
      " [10. 10. 10.]]\n"
     ]
    }
   ],
   "source": [
    "print(\"Access element\")\n",
    "print(matrix1[0,1])\n",
    "print(\"Access first row\")\n",
    "print(matrix1[0,:])\n",
    "print(\"Access third colomn\")\n",
    "print(matrix3[:,2])\n",
    "print(\"Access all columns but last\")\n",
    "print(matrix3[:,:-1])\n",
    "print(\"Transpose\")\n",
    "print(np.transpose(matrix2))\n",
    "print(\"Inverse\")\n",
    "print(np.linalg.inv(matrix1))\n",
    "print(\"Element Multiplication\")\n",
    "print(matrix1*matrix3)\n",
    "print(\"Matrix Multiplication\")\n",
    "print(matrix1@matrix3)"
   ]
  },
  {
   "cell_type": "code",
   "execution_count": 76,
   "metadata": {},
   "outputs": [
    {
     "data": {
      "image/png": "[encoded data removed]",
      "text/plain": [
       "<matplotlib.figure.Figure at 0x1a2d06fc88>"
      ]
     },
     "metadata": {},
     "output_type": "display_data"
    }
   ],
   "source": [
    "age = np.array([0,6,12,18,24])\n",
    "length = np.array([51,67,74,82,88])\n",
    "plt.plot(age,length,'ro', label=\"Data\")\n",
    "plt.xlabel('age')\n",
    "plt.ylabel('length')\n",
    "plt.legend()\n",
    "plt.show()"
   ]
  },
  {
   "cell_type": "code",
   "execution_count": 77,
   "metadata": {},
   "outputs": [
    {
     "name": "stdout",
     "output_type": "stream",
     "text": [
      "[54.6         1.48333333]\n"
     ]
    }
   ],
   "source": [
    "#Linear regression with numpy example\n",
    "\n",
    "# Solve normal equations\n",
    "X = np.column_stack([np.ones(5),age])\n",
    "beta = np.linalg.solve(X.T@X,X.T@length)\n",
    "print(beta)\n"
   ]
  },
  {
   "cell_type": "code",
   "execution_count": 78,
   "metadata": {},
   "outputs": [
    {
     "data": {
      "image/png": "[encoded data removed]",
      "text/plain": [
       "<matplotlib.figure.Figure at 0x1a249db320>"
      ]
     },
     "metadata": {},
     "output_type": "display_data"
    }
   ],
   "source": [
    "#Do predictions\n",
    "length_hat = beta[0]+age*beta[1]\n",
    "plt.plot(age,length_hat,label=\"model\")\n",
    "plt.show()"
   ]
  },
  {
   "cell_type": "code",
   "execution_count": 79,
   "metadata": {},
   "outputs": [
    {
     "name": "stdout",
     "output_type": "stream",
     "text": [
      "54.6\n",
      "[1.48333333]\n"
     ]
    }
   ],
   "source": [
    "#Linear regression in scikit-learn\n",
    "# Learn the model\n",
    "lr = linear_model.LinearRegression()\n",
    "lr.fit(X=np.column_stack([age]),y=length)\n",
    "#Skattning av B_0\n",
    "B_0 = lr.intercept_\n",
    "#Skattning av Beta_1\n",
    "B_1 = lr.coef_\n",
    "print(B_0)\n",
    "print(B_1)"
   ]
  },
  {
   "cell_type": "code",
   "execution_count": 80,
   "metadata": {},
   "outputs": [
    {
     "data": {
      "image/png": "[encoded data removed]",
      "text/plain": [
       "<matplotlib.figure.Figure at 0x1a249db6d8>"
      ]
     },
     "metadata": {},
     "output_type": "display_data"
    }
   ],
   "source": [
    "# Do predictions\n",
    "length_hat_lr = lr.predict(X=np.column_stack([age]))\n",
    "plt.plot(age,length_hat_lr,'g',label=\"model\")\n",
    "plt.show()"
   ]
  },
  {
   "cell_type": "code",
   "execution_count": 88,
   "metadata": {},
   "outputs": [
    {
     "data": {
      "text/html": [
       "<div>\n",
       "<style>\n",
       "    .dataframe thead tr:only-child th {\n",
       "        text-align: right;\n",
       "    }\n",
       "\n",
       "    .dataframe thead th {\n",
       "        text-align: left;\n",
       "    }\n",
       "\n",
       "    .dataframe tbody tr th {\n",
       "        vertical-align: top;\n",
       "    }\n",
       "</style>\n",
       "<table border=\"1\" class=\"dataframe\">\n",
       "  <thead>\n",
       "    <tr style=\"text-align: right;\">\n",
       "      <th></th>\n",
       "      <th>age</th>\n",
       "      <th>length</th>\n",
       "    </tr>\n",
       "  </thead>\n",
       "  <tbody>\n",
       "    <tr>\n",
       "      <th>0</th>\n",
       "      <td>0</td>\n",
       "      <td>51</td>\n",
       "    </tr>\n",
       "    <tr>\n",
       "      <th>1</th>\n",
       "      <td>6</td>\n",
       "      <td>67</td>\n",
       "    </tr>\n",
       "    <tr>\n",
       "      <th>2</th>\n",
       "      <td>12</td>\n",
       "      <td>74</td>\n",
       "    </tr>\n",
       "    <tr>\n",
       "      <th>3</th>\n",
       "      <td>18</td>\n",
       "      <td>82</td>\n",
       "    </tr>\n",
       "    <tr>\n",
       "      <th>4</th>\n",
       "      <td>24</td>\n",
       "      <td>88</td>\n",
       "    </tr>\n",
       "  </tbody>\n",
       "</table>\n",
       "</div>"
      ],
      "text/plain": [
       "   age  length\n",
       "0    0      51\n",
       "1    6      67\n",
       "2   12      74\n",
       "3   18      82\n",
       "4   24      88"
      ]
     },
     "execution_count": 88,
     "metadata": {},
     "output_type": "execute_result"
    }
   ],
   "source": [
    "#Pandas data frames\n",
    "#Create a data frame\n",
    "infantdata = pd.DataFrame(np.column_stack([age,length]),\\\n",
    "                                        columns=['age', 'length'])\n",
    "infantdata"
   ]
  },
  {
   "cell_type": "code",
   "execution_count": 89,
   "metadata": {},
   "outputs": [
    {
     "data": {
      "text/plain": [
       "[<matplotlib.lines.Line2D at 0x1a2d562e10>]"
      ]
     },
     "execution_count": 89,
     "metadata": {},
     "output_type": "execute_result"
    }
   ],
   "source": [
    "infantdata['length']\n",
    "infantdata.iloc[:,1]\n",
    "#Plot data\n",
    "plt.plot(infantdata['age'],infantdata['length'],'b+', label=\"Data\")"
   ]
  },
  {
   "cell_type": "code",
   "execution_count": 119,
   "metadata": {},
   "outputs": [
    {
     "name": "stdout",
     "output_type": "stream",
     "text": [
      "     acousticness  danceability  duration  energy  instrumentalness  key  \\\n",
      "0        0.713000         0.514    100125  0.5210          0.816000    8   \n",
      "1        0.192000         0.714    207019  0.6140          0.000000    4   \n",
      "2        0.333000         0.630    216200  0.4550          0.000004    5   \n",
      "3        0.601000         0.810    136413  0.2210          0.210000    5   \n",
      "4        0.883000         0.465    181440  0.4590          0.000173    6   \n",
      "5        0.524000         0.633    244360  0.4010          0.000000    4   \n",
      "6        0.597000         0.507    183573  0.7950          0.000000    9   \n",
      "7        0.452000         0.825    259102  0.4350          0.609000    1   \n",
      "8        0.748000         0.420    366179  0.3240          0.839000    9   \n",
      "9        0.913000         0.292    197613  0.2460          0.088300    0   \n",
      "10       0.530000         0.525    206249  0.5740          0.000007    1   \n",
      "11       0.952000         0.327    240600  0.2800          0.000033    2   \n",
      "12       0.039900         0.546    241920  0.7330          0.000001    2   \n",
      "13       0.954000         0.437    181053  0.2850          0.067900    0   \n",
      "14       0.359000         0.425    238587  0.5620          0.000047    2   \n",
      "15       0.706000         0.249    208147  0.5640          0.369000    4   \n",
      "16       0.003290         0.688    279829  0.8190          0.000018    7   \n",
      "17       0.015200         0.591    245741  0.5850          0.023000    6   \n",
      "18       0.992000         0.525    226293  0.0633          0.905000    9   \n",
      "19       0.017800         0.847    226547  0.6090          0.000000    4   \n",
      "20       0.423000         0.665    190932  0.6990          0.000000   11   \n",
      "21       0.135000         0.651    189531  0.8760          0.000000    8   \n",
      "22       0.615000         0.499    361613  0.6030          0.000000    7   \n",
      "23       0.023500         0.464    198237  0.7710          0.000000    8   \n",
      "24       0.024000         0.681    202720  0.8900          0.000013    3   \n",
      "25       0.994000         0.450    199493  0.0153          0.919000    2   \n",
      "26       0.307000         0.659    146325  0.6920          0.000015    0   \n",
      "27       0.050300         0.811    179000  0.8630          0.000000    0   \n",
      "28       0.170000         0.626    188467  0.6670          0.000000    9   \n",
      "29       0.336000         0.654    191000  0.8590          0.000000    0   \n",
      "..            ...           ...       ...     ...               ...  ...   \n",
      "720      0.050700         0.747    203853  0.7450          0.000002    9   \n",
      "721      0.639000         0.686    212293  0.3720          0.000000    3   \n",
      "722      0.673000         0.712    165732  0.3610          0.000000    1   \n",
      "723      0.302000         0.700    311547  0.8870          0.000803    9   \n",
      "724      0.813000         0.555    247680  0.4770          0.673000    3   \n",
      "725      0.019300         0.520    296880  0.7680          0.000340    8   \n",
      "726      0.609000         0.475    182747  0.5790          0.000000    5   \n",
      "727      0.012600         0.676    265240  0.8220          0.000058    6   \n",
      "728      0.196000         0.587    284359  0.6770          0.000002    8   \n",
      "729      0.012100         0.736    211023  0.7730          0.005310    1   \n",
      "730      0.987000         0.464    618400  0.1390          0.908000    2   \n",
      "731      0.031000         0.698    145400  0.9450          0.002230    9   \n",
      "732      0.005590         0.636    217600  0.9040          0.000000    2   \n",
      "733      0.633000         0.601    132977  0.3020          0.000000    4   \n",
      "734      0.201000         0.648    166840  0.4750          0.000000    6   \n",
      "735      0.019000         0.429    184753  0.7600          0.000000    7   \n",
      "736      0.001160         0.601    148125  0.9900          0.520000    6   \n",
      "737      0.905000         0.579    101148  0.2210          0.000001    0   \n",
      "738      0.379000         0.503    233560  0.6180          0.000000    7   \n",
      "739      0.102000         0.803    216575  0.6310          0.000007    8   \n",
      "740      0.202000         0.755    216450  0.5770          0.000000    3   \n",
      "741      0.162000         0.710    309173  0.7840          0.000623    0   \n",
      "742      0.195000         0.887    231733  0.6820          0.050300    4   \n",
      "743      0.125000         0.480    110075  0.5600          0.000000    1   \n",
      "744      0.124000         0.519    242227  0.4950          0.006260    6   \n",
      "745      0.000175         0.374    333827  0.9430          0.000156    6   \n",
      "746      0.001970         0.487    213000  0.8670          0.006020   10   \n",
      "747      0.916000         0.605    125867  0.3140          0.000000    0   \n",
      "748      0.168000         0.700    249493  0.8230          0.000028    3   \n",
      "749      0.015500         0.477    276720  0.7760          0.003140    1   \n",
      "\n",
      "     liveness  loudness  mode  speechiness    tempo  time_signature  valence  \\\n",
      "0      0.1120   -14.835     0       0.0444  119.879               4    0.143   \n",
      "1      0.2630    -6.935     1       0.0319  123.969               4    0.582   \n",
      "2      0.1270    -9.290     1       0.0292  139.931               4    0.199   \n",
      "3      0.1840   -11.005     1       0.0429  109.960               4    0.798   \n",
      "4      0.0692    -8.137     0       0.0351   90.807               4    0.288   \n",
      "5      0.1230   -12.549     1       0.0439  134.978               4    0.523   \n",
      "6      0.2960    -6.966     1       0.0607  165.540               4    0.900   \n",
      "7      0.0953    -9.582     1       0.0568  119.038               4    0.243   \n",
      "8      0.0723   -14.700     0       0.0556  183.020               3    0.330   \n",
      "9      0.2090    -9.758     1       0.0330  140.316               4    0.249   \n",
      "10     0.3140    -6.448     0       0.2960  199.512               4    0.420   \n",
      "11     0.1040    -9.003     1       0.0408   83.047               4    0.130   \n",
      "12     0.2350    -7.073     1       0.0299  107.285               4    0.910   \n",
      "13     0.1130   -10.683     1       0.0324   87.910               4    0.265   \n",
      "14     0.1030    -6.428     0       0.0278   81.016               4    0.488   \n",
      "15     0.3640    -6.576     0       0.1010   78.576               4    0.335   \n",
      "16     0.0943    -6.935     1       0.0558  146.003               4    0.457   \n",
      "17     0.0584   -10.297     0       0.0315  130.076               4    0.372   \n",
      "18     0.1050   -23.072     1       0.0497   71.855               4    0.297   \n",
      "19     0.0707    -6.335     1       0.4160  128.006               4    0.625   \n",
      "20     0.0969    -5.265     1       0.0578  124.896               4    0.585   \n",
      "21     0.2240    -7.033     1       0.3570   76.166               4    0.736   \n",
      "22     0.2080   -10.022     1       0.3350  128.317               4    0.417   \n",
      "23     0.0630    -4.503     1       0.3360  158.777               4    0.690   \n",
      "24     0.0663    -5.416     1       0.0484  136.401               4    0.803   \n",
      "25     0.0630   -25.257     1       0.0552   81.327               4    0.226   \n",
      "26     0.1320    -6.275     0       0.0278   98.077               4    0.370   \n",
      "27     0.3090    -4.640     1       0.1030  121.971               4    0.644   \n",
      "28     0.1120    -6.484     1       0.0739   89.233               4    0.855   \n",
      "29     0.0947    -4.321     1       0.1660  114.870               4    0.704   \n",
      "..        ...       ...   ...          ...      ...             ...      ...   \n",
      "720    0.1510    -3.335     1       0.1460  180.123               4    0.805   \n",
      "721    0.1320   -11.961     1       0.0358  122.953               4    0.307   \n",
      "722    0.1100    -7.198     1       0.0775  117.381               4    0.434   \n",
      "723    0.1600    -4.702     1       0.0399  105.647               4    0.861   \n",
      "724    0.1160    -9.919     1       0.0295  138.231               4    0.373   \n",
      "725    0.1040    -3.489     0       0.3590   79.178               4    0.398   \n",
      "726    0.0756    -4.096     1       0.0334  178.151               4    0.466   \n",
      "727    0.5830    -7.668     0       0.0844   94.301               4    0.668   \n",
      "728    0.3160    -5.915     1       0.0721  107.003               4    0.279   \n",
      "729    0.3330    -5.092     1       0.0433  103.026               4    0.264   \n",
      "730    0.0696   -20.210     1       0.0393  134.537               4    0.372   \n",
      "731    0.2550    -4.803     1       0.3670  160.017               4    0.588   \n",
      "732    0.1550    -2.411     1       0.3350  150.023               4    0.466   \n",
      "733    0.1080   -12.504     1       0.0283  139.930               4    0.355   \n",
      "734    0.1270    -7.301     1       0.1180  143.599               4    0.267   \n",
      "735    0.1020    -5.434     1       0.3270   78.260               4    0.541   \n",
      "736    0.1240    -3.016     1       0.3370  127.958               4    0.192   \n",
      "737    0.1020    -9.664     1       0.0478  118.871               3    0.221   \n",
      "738    0.1140    -6.060     0       0.0299   81.907               4    0.232   \n",
      "739    0.0858    -4.213     1       0.0444  104.999               4    0.659   \n",
      "740    0.2340    -7.549     1       0.1570  100.034               4    0.451   \n",
      "741    0.1940    -6.865     1       0.0416  126.656               4    0.901   \n",
      "742    0.0623    -7.795     1       0.0436  115.700               4    0.962   \n",
      "743    0.1360    -7.868     1       0.3510  204.162               4    0.571   \n",
      "744    0.1830   -11.002     0       0.1010   95.078               4    0.262   \n",
      "745    0.1250    -4.108     0       0.0556  112.084               4    0.338   \n",
      "746    0.0968    -3.293     0       0.0543  160.048               4    0.403   \n",
      "747    0.3590    -7.631     1       0.0327  138.148               4    0.836   \n",
      "748    0.1220    -6.892     1       0.0373  144.060               4    0.745   \n",
      "749    0.2030    -5.056     1       0.0349  131.004               4    0.429   \n",
      "\n",
      "     label  \n",
      "0        1  \n",
      "1        1  \n",
      "2        1  \n",
      "3        1  \n",
      "4        1  \n",
      "5        1  \n",
      "6        0  \n",
      "7        1  \n",
      "8        1  \n",
      "9        1  \n",
      "10       1  \n",
      "11       1  \n",
      "12       1  \n",
      "13       1  \n",
      "14       1  \n",
      "15       1  \n",
      "16       0  \n",
      "17       1  \n",
      "18       1  \n",
      "19       0  \n",
      "20       1  \n",
      "21       0  \n",
      "22       1  \n",
      "23       0  \n",
      "24       1  \n",
      "25       1  \n",
      "26       1  \n",
      "27       0  \n",
      "28       0  \n",
      "29       1  \n",
      "..     ...  \n",
      "720      0  \n",
      "721      1  \n",
      "722      1  \n",
      "723      1  \n",
      "724      1  \n",
      "725      0  \n",
      "726      1  \n",
      "727      0  \n",
      "728      0  \n",
      "729      1  \n",
      "730      1  \n",
      "731      0  \n",
      "732      0  \n",
      "733      1  \n",
      "734      1  \n",
      "735      0  \n",
      "736      0  \n",
      "737      1  \n",
      "738      1  \n",
      "739      0  \n",
      "740      0  \n",
      "741      1  \n",
      "742      1  \n",
      "743      1  \n",
      "744      1  \n",
      "745      0  \n",
      "746      0  \n",
      "747      1  \n",
      "748      1  \n",
      "749      1  \n",
      "\n",
      "[750 rows x 14 columns]\n"
     ]
    }
   ],
   "source": [
    "#Working with data sets\n",
    "#Importing songs for project\n",
    "\n",
    "#songs to classify\n",
    "#songs = pd.read_csv('/Users/markusskogsmo/Desktop/Statistisk Maskininlärning/datasets/songs_to_classify.csv')\n",
    "#training data\n",
    "songs = pd.read_csv('/Users/markusskogsmo/Desktop/Statistisk Maskininlärning/datasets/training_data.csv')\n",
    "\n",
    "print(songs)"
   ]
  },
  {
   "cell_type": "code",
   "execution_count": 120,
   "metadata": {},
   "outputs": [
    {
     "name": "stdout",
     "output_type": "stream",
     "text": [
      "<class 'pandas.core.frame.DataFrame'>\n",
      "RangeIndex: 750 entries, 0 to 749\n",
      "Data columns (total 14 columns):\n",
      "acousticness        750 non-null float64\n",
      "danceability        750 non-null float64\n",
      "duration            750 non-null int64\n",
      "energy              750 non-null float64\n",
      "instrumentalness    750 non-null float64\n",
      "key                 750 non-null int64\n",
      "liveness            750 non-null float64\n",
      "loudness            750 non-null float64\n",
      "mode                750 non-null int64\n",
      "speechiness         750 non-null float64\n",
      "tempo               750 non-null float64\n",
      "time_signature      750 non-null int64\n",
      "valence             750 non-null float64\n",
      "label               750 non-null int64\n",
      "dtypes: float64(9), int64(5)\n",
      "memory usage: 82.1 KB\n"
     ]
    }
   ],
   "source": [
    "# Look at the column names in the data frame\n",
    "songs.info()"
   ]
  },
  {
   "cell_type": "code",
   "execution_count": 121,
   "metadata": {},
   "outputs": [
    {
     "data": {
      "text/html": [
       "<div>\n",
       "<style>\n",
       "    .dataframe thead tr:only-child th {\n",
       "        text-align: right;\n",
       "    }\n",
       "\n",
       "    .dataframe thead th {\n",
       "        text-align: left;\n",
       "    }\n",
       "\n",
       "    .dataframe tbody tr th {\n",
       "        vertical-align: top;\n",
       "    }\n",
       "</style>\n",
       "<table border=\"1\" class=\"dataframe\">\n",
       "  <thead>\n",
       "    <tr style=\"text-align: right;\">\n",
       "      <th></th>\n",
       "      <th>acousticness</th>\n",
       "      <th>danceability</th>\n",
       "      <th>duration</th>\n",
       "      <th>energy</th>\n",
       "      <th>instrumentalness</th>\n",
       "      <th>key</th>\n",
       "      <th>liveness</th>\n",
       "      <th>loudness</th>\n",
       "      <th>mode</th>\n",
       "      <th>speechiness</th>\n",
       "      <th>tempo</th>\n",
       "      <th>time_signature</th>\n",
       "      <th>valence</th>\n",
       "      <th>label</th>\n",
       "    </tr>\n",
       "  </thead>\n",
       "  <tbody>\n",
       "    <tr>\n",
       "      <th>count</th>\n",
       "      <td>750.000000</td>\n",
       "      <td>750.000000</td>\n",
       "      <td>750.000000</td>\n",
       "      <td>750.000000</td>\n",
       "      <td>750.000000</td>\n",
       "      <td>750.000000</td>\n",
       "      <td>750.000000</td>\n",
       "      <td>750.000000</td>\n",
       "      <td>750.000000</td>\n",
       "      <td>750.000000</td>\n",
       "      <td>750.000000</td>\n",
       "      <td>750.000000</td>\n",
       "      <td>750.000000</td>\n",
       "      <td>750.000000</td>\n",
       "    </tr>\n",
       "    <tr>\n",
       "      <th>mean</th>\n",
       "      <td>0.357394</td>\n",
       "      <td>0.596439</td>\n",
       "      <td>220112.733333</td>\n",
       "      <td>0.594188</td>\n",
       "      <td>0.100245</td>\n",
       "      <td>4.829333</td>\n",
       "      <td>0.203376</td>\n",
       "      <td>-8.509339</td>\n",
       "      <td>0.741333</td>\n",
       "      <td>0.098966</td>\n",
       "      <td>120.405761</td>\n",
       "      <td>3.902667</td>\n",
       "      <td>0.497321</td>\n",
       "      <td>0.602667</td>\n",
       "    </tr>\n",
       "    <tr>\n",
       "      <th>std</th>\n",
       "      <td>0.338405</td>\n",
       "      <td>0.172036</td>\n",
       "      <td>65587.690483</td>\n",
       "      <td>0.253301</td>\n",
       "      <td>0.259921</td>\n",
       "      <td>3.636001</td>\n",
       "      <td>0.177609</td>\n",
       "      <td>5.039488</td>\n",
       "      <td>0.438194</td>\n",
       "      <td>0.104715</td>\n",
       "      <td>28.378116</td>\n",
       "      <td>0.400091</td>\n",
       "      <td>0.239615</td>\n",
       "      <td>0.489673</td>\n",
       "    </tr>\n",
       "    <tr>\n",
       "      <th>min</th>\n",
       "      <td>0.000001</td>\n",
       "      <td>0.107000</td>\n",
       "      <td>33840.000000</td>\n",
       "      <td>0.009250</td>\n",
       "      <td>0.000000</td>\n",
       "      <td>0.000000</td>\n",
       "      <td>0.024000</td>\n",
       "      <td>-29.601000</td>\n",
       "      <td>0.000000</td>\n",
       "      <td>0.023400</td>\n",
       "      <td>55.747000</td>\n",
       "      <td>1.000000</td>\n",
       "      <td>0.033200</td>\n",
       "      <td>0.000000</td>\n",
       "    </tr>\n",
       "    <tr>\n",
       "      <th>25%</th>\n",
       "      <td>0.037150</td>\n",
       "      <td>0.480000</td>\n",
       "      <td>185490.250000</td>\n",
       "      <td>0.423250</td>\n",
       "      <td>0.000000</td>\n",
       "      <td>1.000000</td>\n",
       "      <td>0.094550</td>\n",
       "      <td>-10.173500</td>\n",
       "      <td>0.000000</td>\n",
       "      <td>0.035900</td>\n",
       "      <td>98.998000</td>\n",
       "      <td>4.000000</td>\n",
       "      <td>0.297000</td>\n",
       "      <td>0.000000</td>\n",
       "    </tr>\n",
       "    <tr>\n",
       "      <th>50%</th>\n",
       "      <td>0.244500</td>\n",
       "      <td>0.606000</td>\n",
       "      <td>215108.500000</td>\n",
       "      <td>0.631500</td>\n",
       "      <td>0.000010</td>\n",
       "      <td>5.000000</td>\n",
       "      <td>0.129000</td>\n",
       "      <td>-7.270000</td>\n",
       "      <td>1.000000</td>\n",
       "      <td>0.048750</td>\n",
       "      <td>120.104500</td>\n",
       "      <td>4.000000</td>\n",
       "      <td>0.483000</td>\n",
       "      <td>1.000000</td>\n",
       "    </tr>\n",
       "    <tr>\n",
       "      <th>75%</th>\n",
       "      <td>0.678500</td>\n",
       "      <td>0.715750</td>\n",
       "      <td>244236.750000</td>\n",
       "      <td>0.804750</td>\n",
       "      <td>0.002245</td>\n",
       "      <td>8.000000</td>\n",
       "      <td>0.264750</td>\n",
       "      <td>-5.097750</td>\n",
       "      <td>1.000000</td>\n",
       "      <td>0.113000</td>\n",
       "      <td>138.074750</td>\n",
       "      <td>4.000000</td>\n",
       "      <td>0.684500</td>\n",
       "      <td>1.000000</td>\n",
       "    </tr>\n",
       "    <tr>\n",
       "      <th>max</th>\n",
       "      <td>0.994000</td>\n",
       "      <td>0.986000</td>\n",
       "      <td>675360.000000</td>\n",
       "      <td>0.995000</td>\n",
       "      <td>0.967000</td>\n",
       "      <td>11.000000</td>\n",
       "      <td>0.979000</td>\n",
       "      <td>-0.533000</td>\n",
       "      <td>1.000000</td>\n",
       "      <td>0.721000</td>\n",
       "      <td>204.162000</td>\n",
       "      <td>5.000000</td>\n",
       "      <td>0.975000</td>\n",
       "      <td>1.000000</td>\n",
       "    </tr>\n",
       "  </tbody>\n",
       "</table>\n",
       "</div>"
      ],
      "text/plain": [
       "       acousticness  danceability       duration      energy  \\\n",
       "count    750.000000    750.000000     750.000000  750.000000   \n",
       "mean       0.357394      0.596439  220112.733333    0.594188   \n",
       "std        0.338405      0.172036   65587.690483    0.253301   \n",
       "min        0.000001      0.107000   33840.000000    0.009250   \n",
       "25%        0.037150      0.480000  185490.250000    0.423250   \n",
       "50%        0.244500      0.606000  215108.500000    0.631500   \n",
       "75%        0.678500      0.715750  244236.750000    0.804750   \n",
       "max        0.994000      0.986000  675360.000000    0.995000   \n",
       "\n",
       "       instrumentalness         key    liveness    loudness        mode  \\\n",
       "count        750.000000  750.000000  750.000000  750.000000  750.000000   \n",
       "mean           0.100245    4.829333    0.203376   -8.509339    0.741333   \n",
       "std            0.259921    3.636001    0.177609    5.039488    0.438194   \n",
       "min            0.000000    0.000000    0.024000  -29.601000    0.000000   \n",
       "25%            0.000000    1.000000    0.094550  -10.173500    0.000000   \n",
       "50%            0.000010    5.000000    0.129000   -7.270000    1.000000   \n",
       "75%            0.002245    8.000000    0.264750   -5.097750    1.000000   \n",
       "max            0.967000   11.000000    0.979000   -0.533000    1.000000   \n",
       "\n",
       "       speechiness       tempo  time_signature     valence       label  \n",
       "count   750.000000  750.000000      750.000000  750.000000  750.000000  \n",
       "mean      0.098966  120.405761        3.902667    0.497321    0.602667  \n",
       "std       0.104715   28.378116        0.400091    0.239615    0.489673  \n",
       "min       0.023400   55.747000        1.000000    0.033200    0.000000  \n",
       "25%       0.035900   98.998000        4.000000    0.297000    0.000000  \n",
       "50%       0.048750  120.104500        4.000000    0.483000    1.000000  \n",
       "75%       0.113000  138.074750        4.000000    0.684500    1.000000  \n",
       "max       0.721000  204.162000        5.000000    0.975000    1.000000  "
      ]
     },
     "execution_count": 121,
     "metadata": {},
     "output_type": "execute_result"
    }
   ],
   "source": [
    "# See a statistical summary\n",
    "songs.describe()"
   ]
  },
  {
   "cell_type": "code",
   "execution_count": 122,
   "metadata": {},
   "outputs": [
    {
     "name": "stdout",
     "output_type": "stream",
     "text": [
      "280951.65491489304\n",
      "[ -9772.68624081 -96147.72426256]\n"
     ]
    }
   ],
   "source": [
    "# Do linear regression for the project, some attributes\n",
    "lr = linear_model.LinearRegression()\n",
    "lr.fit(X=songs[[\"acousticness\",\"danceability\"]],y=songs[\"duration\"])\n",
    "#Skattning av B_0\n",
    "B_0 = lr.intercept_\n",
    "#Skattning av Beta_1\n",
    "B_1 = lr.coef_\n",
    "print(B_0)\n",
    "print(B_1)"
   ]
  },
  {
   "cell_type": "code",
   "execution_count": 123,
   "metadata": {},
   "outputs": [],
   "source": [
    "import matplotlib.pyplot as plt\n",
    "from sklearn import datasets\n",
    "%matplotlib inline\n",
    "plt.style.use('ggplot')"
   ]
  },
  {
   "cell_type": "code",
   "execution_count": 135,
   "metadata": {},
   "outputs": [
    {
     "data": {
      "text/plain": [
       "<matplotlib.axes._subplots.AxesSubplot at 0x1a336137b8>"
      ]
     },
     "execution_count": 135,
     "metadata": {},
     "output_type": "execute_result"
    },
    {
     "data": {
      "image/png": "[encoded data removed]",
      "text/plain": [
       "<matplotlib.figure.Figure at 0x1a409f5f98>"
      ]
     },
     "metadata": {},
     "output_type": "display_data"
    }
   ],
   "source": [
    "# Plot the data (random and not finished)\n",
    "#plt.show(pd.plotting.scatter_matrix(songs))\n",
    "\n",
    "df = pd.DataFrame(songs, columns=['acousticness','danceability','duration','energy','instrumentalness','key','liveness','loudness','mode','speechiness','tempo','time_signature','valence','label'])\n",
    "#df\n",
    "#plt.show(pd.plotting.scatter_matrix(df, alpha=0.2)\n",
    "df.plot.scatter('acousticness','danceability')\n",
    "df.plot.scatter('acousticness','danceability')\n"
   ]
  },
  {
   "cell_type": "code",
   "execution_count": null,
   "metadata": {
    "collapsed": true
   },
   "outputs": [],
   "source": []
  }
 ],
 "metadata": {
  "kernelspec": {
   "display_name": "Python 3",
   "language": "python",
   "name": "python3"
  },
  "language_info": {
   "codemirror_mode": {
    "name": "ipython",
    "version": 3
   },
   "file_extension": ".py",
   "mimetype": "text/x-python",
   "name": "python",
   "nbconvert_exporter": "python",
   "pygments_lexer": "ipython3",
   "version": "3.6.3"
  }
 },
 "nbformat": 4,
 "nbformat_minor": 2
}

{
 "cells": [
  {
   "cell_type": "code",
   "execution_count": 11,
   "metadata": {
    "collapsed": true
   },
   "outputs": [],
   "source": [
    "import numpy as np\n",
    "import pandas as pd\n",
    "import matplotlib.pyplot as plt\n",
    "import sklearn.linear_model as linear_model"
   ]
  },
  {
   "cell_type": "code",
   "execution_count": 33,
   "metadata": {
    "scrolled": true
   },
   "outputs": [],
   "source": [
    "array1 = np.array([1,2,4])\n",
    "array2 = np.array([1,9,6])\n",
    "matrix1 = np.array([[2,1,5],[3,6,1],[4,2,4]])\n",
    "longArray = np.array([1,4,5,3,8,9,4,0,3])\n",
    "matrix2 = np.reshape(longArray,[3,3])\n",
    "matrix3 = np.ones([3,3])"
   ]
  },
  {
   "cell_type": "code",
   "execution_count": 34,
   "metadata": {},
   "outputs": [
    {
     "name": "stdout",
     "output_type": "stream",
     "text": [
      "Access element\n",
      "1\n",
      "Access first row\n",
      "[2 1 5]\n",
      "Access third colomn\n",
      "[1. 1. 1.]\n",
      "Access all columns but last\n",
      "[[1. 1.]\n",
      " [1. 1.]\n",
      " [1. 1.]]\n",
      "Transpose\n",
      "[[1 3 4]\n",
      " [4 8 0]\n",
      " [5 9 3]]\n",
      "Inverse\n",
      "[[-0.40740741 -0.11111111  0.53703704]\n",
      " [ 0.14814815  0.22222222 -0.24074074]\n",
      " [ 0.33333333  0.         -0.16666667]]\n",
      "Element Multiplication\n",
      "[[2. 1. 5.]\n",
      " [3. 6. 1.]\n",
      " [4. 2. 4.]]\n",
      "Matrix Multiplication\n",
      "[[ 8.  8.  8.]\n",
      " [10. 10. 10.]\n",
      " [10. 10. 10.]]\n"
     ]
    }
   ],
   "source": [
    "print(\"Access element\")\n",
    "print(matrix1[0,1])\n",
    "print(\"Access first row\")\n",
    "print(matrix1[0,:])\n",
    "print(\"Access third colomn\")\n",
    "print(matrix3[:,2])\n",
    "print(\"Access all columns but last\")\n",
    "print(matrix3[:,:-1])\n",
    "print(\"Transpose\")\n",
    "print(np.transpose(matrix2))\n",
    "print(\"Inverse\")\n",
    "print(np.linalg.inv(matrix1))\n",
    "print(\"Element Multiplication\")\n",
    "print(matrix1*matrix3)\n",
    "print(\"Matrix Multiplication\")\n",
    "print(matrix1@matrix3)"
   ]
  },
  {
   "cell_type": "code",
   "execution_count": 38,
   "metadata": {},
   "outputs": [
    {
     "data": {
      "image/png": "[encoded data removed]",
      "text/plain": [
       "<matplotlib.figure.Figure at 0x1a229c3860>"
      ]
     },
     "metadata": {},
     "output_type": "display_data"
    }
   ],
   "source": [
    "age = np.array([0,6,12,18,24])\n",
    "length = np.array([51,67,74,82,88])\n",
    "plt.plot(age,length,'ro', label=\"Data\")\n",
    "plt.xlabel('age')\n",
    "plt.ylabel('length')\n",
    "plt.legend()\n",
    "plt.show()"
   ]
  },
  {
   "cell_type": "code",
   "execution_count": 43,
   "metadata": {},
   "outputs": [
    {
     "name": "stdout",
     "output_type": "stream",
     "text": [
      "[54.6         1.48333333]\n"
     ]
    }
   ],
   "source": [
    "#Linear regression with numpy example\n",
    "\n",
    "# Solve normal equations\n",
    "X = np.column_stack([np.ones(5),age])\n",
    "beta = np.linalg.solve(X.T@X,X.T@length)\n",
    "print(beta)\n"
   ]
  },
  {
   "cell_type": "code",
   "execution_count": 50,
   "metadata": {},
   "outputs": [
    {
     "data": {
      "image/png": "[encoded data removed]",
      "text/plain": [
       "<matplotlib.figure.Figure at 0x1a24b07160>"
      ]
     },
     "metadata": {},
     "output_type": "display_data"
    }
   ],
   "source": [
    "#Do predictions\n",
    "length_hat = beta[0]+age*beta[1]\n",
    "plt.plot(age,length_hat,label=\"model\")\n",
    "plt.show()"
   ]
  },
  {
   "cell_type": "code",
   "execution_count": 54,
   "metadata": {},
   "outputs": [
    {
     "name": "stdout",
     "output_type": "stream",
     "text": [
      "54.6\n",
      "[1.48333333]\n"
     ]
    }
   ],
   "source": [
    "#Linear regression in scikit-learn\n",
    "# Learn the model\n",
    "lr = linear_model.LinearRegression()\n",
    "lr.fit(X=np.column_stack([age]),y=length)\n",
    "#Skattning av B_0\n",
    "B_0 = lr.intercept_\n",
    "#Skattning av Beta_1\n",
    "B_1 = lr.coef_\n",
    "print(B_0)\n",
    "print(B_1)"
   ]
  },
  {
   "cell_type": "code",
   "execution_count": 57,
   "metadata": {},
   "outputs": [
    {
     "data": {
      "image/png": "[encoded data removed]",
      "text/plain": [
       "<matplotlib.figure.Figure at 0x1a2299f6a0>"
      ]
     },
     "metadata": {},
     "output_type": "display_data"
    }
   ],
   "source": [
    "# Do predictions\n",
    "length_hat_lr = lr.predict(X=np.column_stack([age]))\n",
    "plt.plot(age,length_hat_lr,'g',label=\"model\")\n",
    "plt.show()"
   ]
  },
  {
   "cell_type": "code",
   "execution_count": null,
   "metadata": {
    "collapsed": true
   },
   "outputs": [],
   "source": [
    "#Pandas data frames\n",
    "#Create a data frame"
   ]
  }
 ],
 "metadata": {
  "kernelspec": {
   "display_name": "Python 3",
   "language": "python",
   "name": "python3"
  },
  "language_info": {
   "codemirror_mode": {
    "name": "ipython",
    "version": 3
   },
   "file_extension": ".py",
   "mimetype": "text/x-python",
   "name": "python",
   "nbconvert_exporter": "python",
   "pygments_lexer": "ipython3",
   "version": "3.6.3"
  }
 },
 "nbformat": 4,
 "nbformat_minor": 2
}
